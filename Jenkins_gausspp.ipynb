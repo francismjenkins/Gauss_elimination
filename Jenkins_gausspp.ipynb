{
 "cells": [
  {
   "cell_type": "code",
   "execution_count": 22,
   "metadata": {},
   "outputs": [
    {
     "name": "stdout",
     "output_type": "stream",
     "text": [
      "The solutions for the unknown values in the given system are: \n",
      "x =  [ 4.  8. -2.]\n",
      "Check our solution by multiplying matrix A with x\n",
      "The given value of b is: \n",
      "b = [-38. -34. -20.]\n",
      "Ax =  [-38. -34. -20.]\n",
      "As shown Ax = b, therefore: \n",
      "x1 =  4.0\n",
      "x2 =  8.0\n",
      "x3 =  -2.0\n"
     ]
    }
   ],
   "source": [
    "from numpy import array, zeros, float, dot\n",
    "from copy import copy\n",
    "\n",
    "# Gauss elimination with partial pivoting for 3 x 3 system of equations\n",
    "# Author: Frank Jenkins\n",
    "# The values for A and b (in functions sys and vec respectively) were given by:\n",
    "# problem 9.9 in Numerical Methods for Engineers, Chapra & Canale, 6th edition\n",
    "\n",
    "\n",
    "\n",
    "A = array([[2.0, -6.0, -1.0],\n",
    "               [-3.0, -1.0, 7.0],\n",
    "               [-8.0, 1.0, -2.0]])\n",
    "b = array([-38.0, -34.0, -20])\n",
    "\n",
    "\t\n",
    "\n",
    "def gausspp(A, b): # Gauss elimination with partial pivoting\n",
    "    # Returns the vector x such that Ax=b\n",
    "    \n",
    "    n,m = A.shape\n",
    "    C = zeros((n,m+1),float)\n",
    "    C[:,0:n],C[:,n] = A,b\n",
    "\n",
    "    for j in range(n):\n",
    "        # first do partial pivoting.\n",
    "        p = j \n",
    "        # search for largest element in column\n",
    "        for i in range(j+1,n):\n",
    "            if abs(C[i,j]) > abs(C[p,j]): p = i\n",
    "        if abs(C[p,j]) < 1.0e-16:\n",
    "            print(\"matrix is (likely) singular\")\n",
    "            return b \n",
    "        # swap rows to get largest element on the diagonal\n",
    "        C[p,:],C[j,:] = copy(C[j,:]),copy(C[p,:])\n",
    "        # elimination\n",
    "        ppivot = C[j,j]\n",
    "        C[j,:] = C[j,:] / ppivot\n",
    "        for i in range(n):\n",
    "            if i == j: continue\n",
    "            C[i,:] = C[i,:] - C[i,j]*C[j,:]\n",
    "    I,x = C[:,0:n],C[:,n]\n",
    "    return x\n",
    "\n",
    "\n",
    "# x should be an n x 1 vector equal to b (with solutions for x1, x2, and x3)\n",
    "x = gausspp(A,b)\n",
    "print(\"The solutions for the unknown values in the given system are: \")\n",
    "\n",
    "print(\"x = \", x)\n",
    "\n",
    "# Check our solutions\n",
    "print(\"Check our solution by multiplying matrix A with x\")\n",
    "print(\"The given value of b is: \")\n",
    "print(\"b =\", b)\n",
    "import numpy as np\n",
    "check = np.matmul(A, x)   \n",
    "print(\"Ax = \", check)\n",
    "\n",
    "if(check.all() == b.all()):\n",
    "    print(\"As shown Ax = b, therefore: \")\n",
    "else:\n",
    "    print(\"Solution is incorrect, please check the format of your inputs\")\n",
    "\n",
    "a = round(x[0])\n",
    "b = round(x[1])\n",
    "c = round(x[2])\n",
    "\n",
    "print(\"x1 = \", a)\n",
    "print(\"x2 = \", b)\n",
    "print(\"x3 = \", c)"
   ]
  },
  {
   "cell_type": "code",
   "execution_count": null,
   "metadata": {},
   "outputs": [],
   "source": []
  }
 ],
 "metadata": {
  "kernelspec": {
   "display_name": "Python 3",
   "language": "python",
   "name": "python3"
  },
  "language_info": {
   "codemirror_mode": {
    "name": "ipython",
    "version": 3
   },
   "file_extension": ".py",
   "mimetype": "text/x-python",
   "name": "python",
   "nbconvert_exporter": "python",
   "pygments_lexer": "ipython3",
   "version": "3.6.5"
  }
 },
 "nbformat": 4,
 "nbformat_minor": 2
}
